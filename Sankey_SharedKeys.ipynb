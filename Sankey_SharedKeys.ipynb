{
 "cells": [
  {
   "cell_type": "code",
   "execution_count": 75,
   "id": "90911f77",
   "metadata": {},
   "outputs": [
    {
     "data": {
      "application/vnd.plotly.v1+json": {
       "config": {
        "plotlyServerURL": "https://plot.ly"
       },
       "data": [
        {
         "link": {
          "color": [
           "rgba(126, 210, 246, 0.8)",
           "rgba(140, 38, 213, 0.8)",
           "rgba(161, 20, 59, 0.8)",
           "rgba(41, 77, 226, 0.8)",
           "rgba(6, 217, 118, 0.8)",
           "rgba(142, 147, 185, 0.8)",
           "rgba(186, 55, 208, 0.8)",
           "rgba(234, 140, 65, 0.8)",
           "rgba(99, 132, 210, 0.8)",
           "rgba(241, 116, 90, 0.8)",
           "rgba(231, 115, 43, 0.8)",
           "rgba(253, 169, 168, 0.8)",
           "rgba(127, 84, 156, 0.8)",
           "rgba(71, 103, 139, 0.8)",
           "rgba(91, 1, 136, 0.8)",
           "rgba(72, 6, 237, 0.8)",
           "rgba(205, 103, 108, 0.8)",
           "rgba(249, 230, 164, 0.8)",
           "rgba(188, 22, 159, 0.8)",
           "rgba(200, 218, 17, 0.8)",
           "rgba(165, 218, 46, 0.8)",
           "rgba(41, 44, 252, 0.8)",
           "rgba(86, 93, 56, 0.8)",
           "rgba(17, 9, 67, 0.8)",
           "rgba(66, 76, 59, 0.8)",
           "rgba(150, 31, 40, 0.8)",
           "rgba(121, 37, 6, 0.8)",
           "rgba(22, 103, 5, 0.8)",
           "rgba(28, 162, 69, 0.8)",
           "rgba(61, 42, 170, 0.8)",
           "rgba(1, 53, 3, 0.8)",
           "rgba(251, 36, 172, 0.8)",
           "rgba(96, 235, 232, 0.8)",
           "rgba(202, 139, 229, 0.8)",
           "rgba(126, 139, 87, 0.8)",
           "rgba(119, 249, 254, 0.8)",
           "rgba(148, 105, 127, 0.8)",
           "rgba(200, 96, 232, 0.8)",
           "rgba(92, 57, 20, 0.8)",
           "rgba(90, 68, 8, 0.8)",
           "rgba(207, 69, 220, 0.8)",
           "rgba(24, 150, 134, 0.8)",
           "rgba(126, 85, 201, 0.8)",
           "rgba(244, 99, 111, 0.8)",
           "rgba(195, 69, 28, 0.8)",
           "rgba(33, 89, 33, 0.8)",
           "rgba(70, 211, 45, 0.8)",
           "rgba(53, 55, 175, 0.8)",
           "rgba(113, 201, 119, 0.8)",
           "rgba(123, 217, 103, 0.8)",
           "rgba(73, 205, 177, 0.8)",
           "rgba(213, 83, 82, 0.8)",
           "rgba(67, 165, 95, 0.8)",
           "rgba(140, 124, 209, 0.8)",
           "rgba(135, 129, 1, 0.8)",
           "rgba(235, 162, 189, 0.8)",
           "rgba(134, 132, 167, 0.8)",
           "rgba(192, 28, 230, 0.8)",
           "rgba(80, 127, 198, 0.8)"
          ],
          "source": [
           0,
           1,
           2,
           2,
           2,
           2,
           2,
           2,
           2,
           2,
           2,
           2,
           2,
           2,
           2,
           3,
           4,
           5,
           6,
           6,
           7,
           8,
           8,
           9,
           10,
           11,
           12,
           13,
           14,
           15,
           16,
           17,
           18,
           18,
           18,
           19,
           20,
           20,
           21,
           22,
           23,
           24,
           24,
           24,
           24,
           25,
           25,
           25,
           25,
           26,
           27,
           27,
           27,
           29,
           30,
           31,
           32,
           33,
           34
          ],
          "target": [
           35,
           35,
           35,
           37,
           38,
           41,
           42,
           43,
           44,
           45,
           48,
           49,
           51,
           53,
           57,
           36,
           36,
           39,
           37,
           38,
           40,
           37,
           41,
           36,
           40,
           36,
           36,
           47,
           45,
           46,
           47,
           44,
           46,
           50,
           52,
           50,
           48,
           49,
           51,
           55,
           53,
           54,
           56,
           58,
           60,
           49,
           51,
           53,
           57,
           55,
           45,
           55,
           59,
           57,
           56,
           56,
           56,
           56,
           59
          ],
          "value": [
           272,
           5,
           2351994,
           53042,
           4820056,
           119680,
           282977,
           0,
           121382,
           128679,
           0,
           1344327,
           284,
           3623,
           2225907,
           34,
           1812365,
           12,
           9630,
           454,
           171,
           518,
           308,
           28211,
           0,
           190,
           21,
           0,
           312140,
           7,
           0,
           172,
           3027305,
           3069816,
           2485419,
           1023,
           0,
           31604,
           10,
           17,
           16,
           726,
           4083577,
           110435,
           11348,
           10,
           3,
           2,
           4,
           16,
           197661,
           2879108,
           3232068,
           48566,
           115,
           6,
           16,
           4,
           53
          ]
         },
         "node": {
          "label": [
           "FunctionName",
           "Module",
           "Session",
           "Language",
           "Logfile",
           "TrimbleRegion",
           "Xcode",
           "Country",
           "AssertedModule",
           "Controller",
           "TrimbleUser",
           "OperatingSystem",
           "Version",
           "ScapiPlugin",
           "TsSurvey",
           "StationSetup",
           "ScapiPXCode",
           "ScapiPluginInfo",
           "TsConnection",
           "TsPrism",
           "TotalStation",
           "Laser",
           "SolutionType",
           "Echo",
           "GpsConnection",
           "ConnectionType",
           "MeasurementMethod",
           "GpsSurvey",
           "GpsAttitude",
           "GpsReceiver",
           "GpsSurveySetting",
           "GpsHardwareConfiguration",
           "GpsCorrectionSource",
           "GpsAins",
           "GpsTopoSetting",
           "Function",
           "Session",
           "Exception",
           "Thread",
           "Country",
           "Logfile",
           "Assert",
           "GpsSearch",
           "Email",
           "ScapiPlugin",
           "IntegratedSurvey",
           "TsSurvey",
           "ScapiThread",
           "SSeriesLongError",
           "TsConnection",
           "TsTarget",
           "LaserConnection",
           "Atomosphere",
           "EchoConnection",
           "IMUGyroAccelBiases",
           "PointStored",
           "GpsSurvey",
           "GpsConnection",
           "CenteringAlignment",
           "GpsTopo",
           "GpsRxRadioConfig"
          ],
          "line": {
           "color": "black",
           "width": 0.95
          },
          "pad": 50,
          "thickness": 15
         },
         "type": "sankey",
         "valueformat": ".0f",
         "valuesuffix": "Keys"
        }
       ],
       "layout": {
        "font": {
         "color": "black",
         "size": 8
        },
        "hovermode": "x",
        "paper_bgcolor": "white",
        "template": {
         "data": {
          "bar": [
           {
            "error_x": {
             "color": "#2a3f5f"
            },
            "error_y": {
             "color": "#2a3f5f"
            },
            "marker": {
             "line": {
              "color": "#E5ECF6",
              "width": 0.5
             }
            },
            "type": "bar"
           }
          ],
          "barpolar": [
           {
            "marker": {
             "line": {
              "color": "#E5ECF6",
              "width": 0.5
             }
            },
            "type": "barpolar"
           }
          ],
          "carpet": [
           {
            "aaxis": {
             "endlinecolor": "#2a3f5f",
             "gridcolor": "white",
             "linecolor": "white",
             "minorgridcolor": "white",
             "startlinecolor": "#2a3f5f"
            },
            "baxis": {
             "endlinecolor": "#2a3f5f",
             "gridcolor": "white",
             "linecolor": "white",
             "minorgridcolor": "white",
             "startlinecolor": "#2a3f5f"
            },
            "type": "carpet"
           }
          ],
          "choropleth": [
           {
            "colorbar": {
             "outlinewidth": 0,
             "ticks": ""
            },
            "type": "choropleth"
           }
          ],
          "contour": [
           {
            "colorbar": {
             "outlinewidth": 0,
             "ticks": ""
            },
            "colorscale": [
             [
              0,
              "#0d0887"
             ],
             [
              0.1111111111111111,
              "#46039f"
             ],
             [
              0.2222222222222222,
              "#7201a8"
             ],
             [
              0.3333333333333333,
              "#9c179e"
             ],
             [
              0.4444444444444444,
              "#bd3786"
             ],
             [
              0.5555555555555556,
              "#d8576b"
             ],
             [
              0.6666666666666666,
              "#ed7953"
             ],
             [
              0.7777777777777778,
              "#fb9f3a"
             ],
             [
              0.8888888888888888,
              "#fdca26"
             ],
             [
              1,
              "#f0f921"
             ]
            ],
            "type": "contour"
           }
          ],
          "contourcarpet": [
           {
            "colorbar": {
             "outlinewidth": 0,
             "ticks": ""
            },
            "type": "contourcarpet"
           }
          ],
          "heatmap": [
           {
            "colorbar": {
             "outlinewidth": 0,
             "ticks": ""
            },
            "colorscale": [
             [
              0,
              "#0d0887"
             ],
             [
              0.1111111111111111,
              "#46039f"
             ],
             [
              0.2222222222222222,
              "#7201a8"
             ],
             [
              0.3333333333333333,
              "#9c179e"
             ],
             [
              0.4444444444444444,
              "#bd3786"
             ],
             [
              0.5555555555555556,
              "#d8576b"
             ],
             [
              0.6666666666666666,
              "#ed7953"
             ],
             [
              0.7777777777777778,
              "#fb9f3a"
             ],
             [
              0.8888888888888888,
              "#fdca26"
             ],
             [
              1,
              "#f0f921"
             ]
            ],
            "type": "heatmap"
           }
          ],
          "heatmapgl": [
           {
            "colorbar": {
             "outlinewidth": 0,
             "ticks": ""
            },
            "colorscale": [
             [
              0,
              "#0d0887"
             ],
             [
              0.1111111111111111,
              "#46039f"
             ],
             [
              0.2222222222222222,
              "#7201a8"
             ],
             [
              0.3333333333333333,
              "#9c179e"
             ],
             [
              0.4444444444444444,
              "#bd3786"
             ],
             [
              0.5555555555555556,
              "#d8576b"
             ],
             [
              0.6666666666666666,
              "#ed7953"
             ],
             [
              0.7777777777777778,
              "#fb9f3a"
             ],
             [
              0.8888888888888888,
              "#fdca26"
             ],
             [
              1,
              "#f0f921"
             ]
            ],
            "type": "heatmapgl"
           }
          ],
          "histogram": [
           {
            "marker": {
             "colorbar": {
              "outlinewidth": 0,
              "ticks": ""
             }
            },
            "type": "histogram"
           }
          ],
          "histogram2d": [
           {
            "colorbar": {
             "outlinewidth": 0,
             "ticks": ""
            },
            "colorscale": [
             [
              0,
              "#0d0887"
             ],
             [
              0.1111111111111111,
              "#46039f"
             ],
             [
              0.2222222222222222,
              "#7201a8"
             ],
             [
              0.3333333333333333,
              "#9c179e"
             ],
             [
              0.4444444444444444,
              "#bd3786"
             ],
             [
              0.5555555555555556,
              "#d8576b"
             ],
             [
              0.6666666666666666,
              "#ed7953"
             ],
             [
              0.7777777777777778,
              "#fb9f3a"
             ],
             [
              0.8888888888888888,
              "#fdca26"
             ],
             [
              1,
              "#f0f921"
             ]
            ],
            "type": "histogram2d"
           }
          ],
          "histogram2dcontour": [
           {
            "colorbar": {
             "outlinewidth": 0,
             "ticks": ""
            },
            "colorscale": [
             [
              0,
              "#0d0887"
             ],
             [
              0.1111111111111111,
              "#46039f"
             ],
             [
              0.2222222222222222,
              "#7201a8"
             ],
             [
              0.3333333333333333,
              "#9c179e"
             ],
             [
              0.4444444444444444,
              "#bd3786"
             ],
             [
              0.5555555555555556,
              "#d8576b"
             ],
             [
              0.6666666666666666,
              "#ed7953"
             ],
             [
              0.7777777777777778,
              "#fb9f3a"
             ],
             [
              0.8888888888888888,
              "#fdca26"
             ],
             [
              1,
              "#f0f921"
             ]
            ],
            "type": "histogram2dcontour"
           }
          ],
          "mesh3d": [
           {
            "colorbar": {
             "outlinewidth": 0,
             "ticks": ""
            },
            "type": "mesh3d"
           }
          ],
          "parcoords": [
           {
            "line": {
             "colorbar": {
              "outlinewidth": 0,
              "ticks": ""
             }
            },
            "type": "parcoords"
           }
          ],
          "pie": [
           {
            "automargin": true,
            "type": "pie"
           }
          ],
          "scatter": [
           {
            "marker": {
             "colorbar": {
              "outlinewidth": 0,
              "ticks": ""
             }
            },
            "type": "scatter"
           }
          ],
          "scatter3d": [
           {
            "line": {
             "colorbar": {
              "outlinewidth": 0,
              "ticks": ""
             }
            },
            "marker": {
             "colorbar": {
              "outlinewidth": 0,
              "ticks": ""
             }
            },
            "type": "scatter3d"
           }
          ],
          "scattercarpet": [
           {
            "marker": {
             "colorbar": {
              "outlinewidth": 0,
              "ticks": ""
             }
            },
            "type": "scattercarpet"
           }
          ],
          "scattergeo": [
           {
            "marker": {
             "colorbar": {
              "outlinewidth": 0,
              "ticks": ""
             }
            },
            "type": "scattergeo"
           }
          ],
          "scattergl": [
           {
            "marker": {
             "colorbar": {
              "outlinewidth": 0,
              "ticks": ""
             }
            },
            "type": "scattergl"
           }
          ],
          "scattermapbox": [
           {
            "marker": {
             "colorbar": {
              "outlinewidth": 0,
              "ticks": ""
             }
            },
            "type": "scattermapbox"
           }
          ],
          "scatterpolar": [
           {
            "marker": {
             "colorbar": {
              "outlinewidth": 0,
              "ticks": ""
             }
            },
            "type": "scatterpolar"
           }
          ],
          "scatterpolargl": [
           {
            "marker": {
             "colorbar": {
              "outlinewidth": 0,
              "ticks": ""
             }
            },
            "type": "scatterpolargl"
           }
          ],
          "scatterternary": [
           {
            "marker": {
             "colorbar": {
              "outlinewidth": 0,
              "ticks": ""
             }
            },
            "type": "scatterternary"
           }
          ],
          "surface": [
           {
            "colorbar": {
             "outlinewidth": 0,
             "ticks": ""
            },
            "colorscale": [
             [
              0,
              "#0d0887"
             ],
             [
              0.1111111111111111,
              "#46039f"
             ],
             [
              0.2222222222222222,
              "#7201a8"
             ],
             [
              0.3333333333333333,
              "#9c179e"
             ],
             [
              0.4444444444444444,
              "#bd3786"
             ],
             [
              0.5555555555555556,
              "#d8576b"
             ],
             [
              0.6666666666666666,
              "#ed7953"
             ],
             [
              0.7777777777777778,
              "#fb9f3a"
             ],
             [
              0.8888888888888888,
              "#fdca26"
             ],
             [
              1,
              "#f0f921"
             ]
            ],
            "type": "surface"
           }
          ],
          "table": [
           {
            "cells": {
             "fill": {
              "color": "#EBF0F8"
             },
             "line": {
              "color": "white"
             }
            },
            "header": {
             "fill": {
              "color": "#C8D4E3"
             },
             "line": {
              "color": "white"
             }
            },
            "type": "table"
           }
          ]
         },
         "layout": {
          "annotationdefaults": {
           "arrowcolor": "#2a3f5f",
           "arrowhead": 0,
           "arrowwidth": 1
          },
          "coloraxis": {
           "colorbar": {
            "outlinewidth": 0,
            "ticks": ""
           }
          },
          "colorscale": {
           "diverging": [
            [
             0,
             "#8e0152"
            ],
            [
             0.1,
             "#c51b7d"
            ],
            [
             0.2,
             "#de77ae"
            ],
            [
             0.3,
             "#f1b6da"
            ],
            [
             0.4,
             "#fde0ef"
            ],
            [
             0.5,
             "#f7f7f7"
            ],
            [
             0.6,
             "#e6f5d0"
            ],
            [
             0.7,
             "#b8e186"
            ],
            [
             0.8,
             "#7fbc41"
            ],
            [
             0.9,
             "#4d9221"
            ],
            [
             1,
             "#276419"
            ]
           ],
           "sequential": [
            [
             0,
             "#0d0887"
            ],
            [
             0.1111111111111111,
             "#46039f"
            ],
            [
             0.2222222222222222,
             "#7201a8"
            ],
            [
             0.3333333333333333,
             "#9c179e"
            ],
            [
             0.4444444444444444,
             "#bd3786"
            ],
            [
             0.5555555555555556,
             "#d8576b"
            ],
            [
             0.6666666666666666,
             "#ed7953"
            ],
            [
             0.7777777777777778,
             "#fb9f3a"
            ],
            [
             0.8888888888888888,
             "#fdca26"
            ],
            [
             1,
             "#f0f921"
            ]
           ],
           "sequentialminus": [
            [
             0,
             "#0d0887"
            ],
            [
             0.1111111111111111,
             "#46039f"
            ],
            [
             0.2222222222222222,
             "#7201a8"
            ],
            [
             0.3333333333333333,
             "#9c179e"
            ],
            [
             0.4444444444444444,
             "#bd3786"
            ],
            [
             0.5555555555555556,
             "#d8576b"
            ],
            [
             0.6666666666666666,
             "#ed7953"
            ],
            [
             0.7777777777777778,
             "#fb9f3a"
            ],
            [
             0.8888888888888888,
             "#fdca26"
            ],
            [
             1,
             "#f0f921"
            ]
           ]
          },
          "colorway": [
           "#636efa",
           "#EF553B",
           "#00cc96",
           "#ab63fa",
           "#FFA15A",
           "#19d3f3",
           "#FF6692",
           "#B6E880",
           "#FF97FF",
           "#FECB52"
          ],
          "font": {
           "color": "#2a3f5f"
          },
          "geo": {
           "bgcolor": "white",
           "lakecolor": "white",
           "landcolor": "#E5ECF6",
           "showlakes": true,
           "showland": true,
           "subunitcolor": "white"
          },
          "hoverlabel": {
           "align": "left"
          },
          "hovermode": "closest",
          "mapbox": {
           "style": "light"
          },
          "paper_bgcolor": "white",
          "plot_bgcolor": "#E5ECF6",
          "polar": {
           "angularaxis": {
            "gridcolor": "white",
            "linecolor": "white",
            "ticks": ""
           },
           "bgcolor": "#E5ECF6",
           "radialaxis": {
            "gridcolor": "white",
            "linecolor": "white",
            "ticks": ""
           }
          },
          "scene": {
           "xaxis": {
            "backgroundcolor": "#E5ECF6",
            "gridcolor": "white",
            "gridwidth": 2,
            "linecolor": "white",
            "showbackground": true,
            "ticks": "",
            "zerolinecolor": "white"
           },
           "yaxis": {
            "backgroundcolor": "#E5ECF6",
            "gridcolor": "white",
            "gridwidth": 2,
            "linecolor": "white",
            "showbackground": true,
            "ticks": "",
            "zerolinecolor": "white"
           },
           "zaxis": {
            "backgroundcolor": "#E5ECF6",
            "gridcolor": "white",
            "gridwidth": 2,
            "linecolor": "white",
            "showbackground": true,
            "ticks": "",
            "zerolinecolor": "white"
           }
          },
          "shapedefaults": {
           "line": {
            "color": "#2a3f5f"
           }
          },
          "ternary": {
           "aaxis": {
            "gridcolor": "white",
            "linecolor": "white",
            "ticks": ""
           },
           "baxis": {
            "gridcolor": "white",
            "linecolor": "white",
            "ticks": ""
           },
           "bgcolor": "#E5ECF6",
           "caxis": {
            "gridcolor": "white",
            "linecolor": "white",
            "ticks": ""
           }
          },
          "title": {
           "x": 0.05
          },
          "xaxis": {
           "automargin": true,
           "gridcolor": "white",
           "linecolor": "white",
           "ticks": "",
           "title": {
            "standoff": 15
           },
           "zerolinecolor": "white",
           "zerolinewidth": 2
          },
          "yaxis": {
           "automargin": true,
           "gridcolor": "white",
           "linecolor": "white",
           "ticks": "",
           "title": {
            "standoff": 15
           },
           "zerolinecolor": "white",
           "zerolinewidth": 2
          }
         }
        },
        "title": {
         "text": "Geospatial Database: <br>Server Name: 10.223.232.109 <br>Prepared by:<a href='https://github.com/MehdiMahmoodi'>Mehdi</a>"
        }
       }
      },
      "text/html": [
       "<div>\n",
       "        \n",
       "        \n",
       "            <div id=\"cf05a4c5-39cb-41ff-8715-a06e25cd9b52\" class=\"plotly-graph-div\" style=\"height:525px; width:100%;\"></div>\n",
       "            <script type=\"text/javascript\">\n",
       "                require([\"plotly\"], function(Plotly) {\n",
       "                    window.PLOTLYENV=window.PLOTLYENV || {};\n",
       "                    \n",
       "                if (document.getElementById(\"cf05a4c5-39cb-41ff-8715-a06e25cd9b52\")) {\n",
       "                    Plotly.newPlot(\n",
       "                        'cf05a4c5-39cb-41ff-8715-a06e25cd9b52',\n",
       "                        [{\"link\": {\"color\": [\"rgba(126, 210, 246, 0.8)\", \"rgba(140, 38, 213, 0.8)\", \"rgba(161, 20, 59, 0.8)\", \"rgba(41, 77, 226, 0.8)\", \"rgba(6, 217, 118, 0.8)\", \"rgba(142, 147, 185, 0.8)\", \"rgba(186, 55, 208, 0.8)\", \"rgba(234, 140, 65, 0.8)\", \"rgba(99, 132, 210, 0.8)\", \"rgba(241, 116, 90, 0.8)\", \"rgba(231, 115, 43, 0.8)\", \"rgba(253, 169, 168, 0.8)\", \"rgba(127, 84, 156, 0.8)\", \"rgba(71, 103, 139, 0.8)\", \"rgba(91, 1, 136, 0.8)\", \"rgba(72, 6, 237, 0.8)\", \"rgba(205, 103, 108, 0.8)\", \"rgba(249, 230, 164, 0.8)\", \"rgba(188, 22, 159, 0.8)\", \"rgba(200, 218, 17, 0.8)\", \"rgba(165, 218, 46, 0.8)\", \"rgba(41, 44, 252, 0.8)\", \"rgba(86, 93, 56, 0.8)\", \"rgba(17, 9, 67, 0.8)\", \"rgba(66, 76, 59, 0.8)\", \"rgba(150, 31, 40, 0.8)\", \"rgba(121, 37, 6, 0.8)\", \"rgba(22, 103, 5, 0.8)\", \"rgba(28, 162, 69, 0.8)\", \"rgba(61, 42, 170, 0.8)\", \"rgba(1, 53, 3, 0.8)\", \"rgba(251, 36, 172, 0.8)\", \"rgba(96, 235, 232, 0.8)\", \"rgba(202, 139, 229, 0.8)\", \"rgba(126, 139, 87, 0.8)\", \"rgba(119, 249, 254, 0.8)\", \"rgba(148, 105, 127, 0.8)\", \"rgba(200, 96, 232, 0.8)\", \"rgba(92, 57, 20, 0.8)\", \"rgba(90, 68, 8, 0.8)\", \"rgba(207, 69, 220, 0.8)\", \"rgba(24, 150, 134, 0.8)\", \"rgba(126, 85, 201, 0.8)\", \"rgba(244, 99, 111, 0.8)\", \"rgba(195, 69, 28, 0.8)\", \"rgba(33, 89, 33, 0.8)\", \"rgba(70, 211, 45, 0.8)\", \"rgba(53, 55, 175, 0.8)\", \"rgba(113, 201, 119, 0.8)\", \"rgba(123, 217, 103, 0.8)\", \"rgba(73, 205, 177, 0.8)\", \"rgba(213, 83, 82, 0.8)\", \"rgba(67, 165, 95, 0.8)\", \"rgba(140, 124, 209, 0.8)\", \"rgba(135, 129, 1, 0.8)\", \"rgba(235, 162, 189, 0.8)\", \"rgba(134, 132, 167, 0.8)\", \"rgba(192, 28, 230, 0.8)\", \"rgba(80, 127, 198, 0.8)\"], \"source\": [0, 1, 2, 2, 2, 2, 2, 2, 2, 2, 2, 2, 2, 2, 2, 3, 4, 5, 6, 6, 7, 8, 8, 9, 10, 11, 12, 13, 14, 15, 16, 17, 18, 18, 18, 19, 20, 20, 21, 22, 23, 24, 24, 24, 24, 25, 25, 25, 25, 26, 27, 27, 27, 29, 30, 31, 32, 33, 34], \"target\": [35, 35, 35, 37, 38, 41, 42, 43, 44, 45, 48, 49, 51, 53, 57, 36, 36, 39, 37, 38, 40, 37, 41, 36, 40, 36, 36, 47, 45, 46, 47, 44, 46, 50, 52, 50, 48, 49, 51, 55, 53, 54, 56, 58, 60, 49, 51, 53, 57, 55, 45, 55, 59, 57, 56, 56, 56, 56, 59], \"value\": [272.0, 5.0, 2351994.0, 53042.0, 4820056.0, 119680.0, 282977.0, 0.0, 121382.0, 128679.0, 0.0, 1344327.0, 284.0, 3623.0, 2225907.0, 34.0, 1812365.0, 12.0, 9630.0, 454.0, 171.0, 518.0, 308.0, 28211.0, 0.0, 190.0, 21.0, 0.0, 312140.0, 7.0, 0.0, 172.0, 3027305.0, 3069816.0, 2485419.0, 1023.0, 0.0, 31604.0, 10.0, 17.0, 16.0, 726.0, 4083577.0, 110435.0, 11348.0, 10.0, 3.0, 2.0, 4.0, 16.0, 197661.0, 2879108.0, 3232068.0, 48566.0, 115.0, 6.0, 16.0, 4.0, 53.0]}, \"node\": {\"label\": [\"FunctionName\", \"Module\", \"Session\", \"Language\", \"Logfile\", \"TrimbleRegion\", \"Xcode\", \"Country\", \"AssertedModule\", \"Controller\", \"TrimbleUser\", \"OperatingSystem\", \"Version\", \"ScapiPlugin\", \"TsSurvey\", \"StationSetup\", \"ScapiPXCode\", \"ScapiPluginInfo\", \"TsConnection\", \"TsPrism\", \"TotalStation\", \"Laser\", \"SolutionType\", \"Echo\", \"GpsConnection\", \"ConnectionType\", \"MeasurementMethod\", \"GpsSurvey\", \"GpsAttitude\", \"GpsReceiver\", \"GpsSurveySetting\", \"GpsHardwareConfiguration\", \"GpsCorrectionSource\", \"GpsAins\", \"GpsTopoSetting\", \"Function\", \"Session\", \"Exception\", \"Thread\", \"Country\", \"Logfile\", \"Assert\", \"GpsSearch\", \"Email\", \"ScapiPlugin\", \"IntegratedSurvey\", \"TsSurvey\", \"ScapiThread\", \"SSeriesLongError\", \"TsConnection\", \"TsTarget\", \"LaserConnection\", \"Atomosphere\", \"EchoConnection\", \"IMUGyroAccelBiases\", \"PointStored\", \"GpsSurvey\", \"GpsConnection\", \"CenteringAlignment\", \"GpsTopo\", \"GpsRxRadioConfig\"], \"line\": {\"color\": \"black\", \"width\": 0.95}, \"pad\": 50, \"thickness\": 15}, \"type\": \"sankey\", \"valueformat\": \".0f\", \"valuesuffix\": \"Keys\"}],\n",
       "                        {\"font\": {\"color\": \"black\", \"size\": 8}, \"hovermode\": \"x\", \"paper_bgcolor\": \"white\", \"template\": {\"data\": {\"bar\": [{\"error_x\": {\"color\": \"#2a3f5f\"}, \"error_y\": {\"color\": \"#2a3f5f\"}, \"marker\": {\"line\": {\"color\": \"#E5ECF6\", \"width\": 0.5}}, \"type\": \"bar\"}], \"barpolar\": [{\"marker\": {\"line\": {\"color\": \"#E5ECF6\", \"width\": 0.5}}, \"type\": \"barpolar\"}], \"carpet\": [{\"aaxis\": {\"endlinecolor\": \"#2a3f5f\", \"gridcolor\": \"white\", \"linecolor\": \"white\", \"minorgridcolor\": \"white\", \"startlinecolor\": \"#2a3f5f\"}, \"baxis\": {\"endlinecolor\": \"#2a3f5f\", \"gridcolor\": \"white\", \"linecolor\": \"white\", \"minorgridcolor\": \"white\", \"startlinecolor\": \"#2a3f5f\"}, \"type\": \"carpet\"}], \"choropleth\": [{\"colorbar\": {\"outlinewidth\": 0, \"ticks\": \"\"}, \"type\": \"choropleth\"}], \"contour\": [{\"colorbar\": {\"outlinewidth\": 0, \"ticks\": \"\"}, \"colorscale\": [[0.0, \"#0d0887\"], [0.1111111111111111, \"#46039f\"], [0.2222222222222222, \"#7201a8\"], [0.3333333333333333, \"#9c179e\"], [0.4444444444444444, \"#bd3786\"], [0.5555555555555556, \"#d8576b\"], [0.6666666666666666, \"#ed7953\"], [0.7777777777777778, \"#fb9f3a\"], [0.8888888888888888, \"#fdca26\"], [1.0, \"#f0f921\"]], \"type\": \"contour\"}], \"contourcarpet\": [{\"colorbar\": {\"outlinewidth\": 0, \"ticks\": \"\"}, \"type\": \"contourcarpet\"}], \"heatmap\": [{\"colorbar\": {\"outlinewidth\": 0, \"ticks\": \"\"}, \"colorscale\": [[0.0, \"#0d0887\"], [0.1111111111111111, \"#46039f\"], [0.2222222222222222, \"#7201a8\"], [0.3333333333333333, \"#9c179e\"], [0.4444444444444444, \"#bd3786\"], [0.5555555555555556, \"#d8576b\"], [0.6666666666666666, \"#ed7953\"], [0.7777777777777778, \"#fb9f3a\"], [0.8888888888888888, \"#fdca26\"], [1.0, \"#f0f921\"]], \"type\": \"heatmap\"}], \"heatmapgl\": [{\"colorbar\": {\"outlinewidth\": 0, \"ticks\": \"\"}, \"colorscale\": [[0.0, \"#0d0887\"], [0.1111111111111111, \"#46039f\"], [0.2222222222222222, \"#7201a8\"], [0.3333333333333333, \"#9c179e\"], [0.4444444444444444, \"#bd3786\"], [0.5555555555555556, \"#d8576b\"], [0.6666666666666666, \"#ed7953\"], [0.7777777777777778, \"#fb9f3a\"], [0.8888888888888888, \"#fdca26\"], [1.0, \"#f0f921\"]], \"type\": \"heatmapgl\"}], \"histogram\": [{\"marker\": {\"colorbar\": {\"outlinewidth\": 0, \"ticks\": \"\"}}, \"type\": \"histogram\"}], \"histogram2d\": [{\"colorbar\": {\"outlinewidth\": 0, \"ticks\": \"\"}, \"colorscale\": [[0.0, \"#0d0887\"], [0.1111111111111111, \"#46039f\"], [0.2222222222222222, \"#7201a8\"], [0.3333333333333333, \"#9c179e\"], [0.4444444444444444, \"#bd3786\"], [0.5555555555555556, \"#d8576b\"], [0.6666666666666666, \"#ed7953\"], [0.7777777777777778, \"#fb9f3a\"], [0.8888888888888888, \"#fdca26\"], [1.0, \"#f0f921\"]], \"type\": \"histogram2d\"}], \"histogram2dcontour\": [{\"colorbar\": {\"outlinewidth\": 0, \"ticks\": \"\"}, \"colorscale\": [[0.0, \"#0d0887\"], [0.1111111111111111, \"#46039f\"], [0.2222222222222222, \"#7201a8\"], [0.3333333333333333, \"#9c179e\"], [0.4444444444444444, \"#bd3786\"], [0.5555555555555556, \"#d8576b\"], [0.6666666666666666, \"#ed7953\"], [0.7777777777777778, \"#fb9f3a\"], [0.8888888888888888, \"#fdca26\"], [1.0, \"#f0f921\"]], \"type\": \"histogram2dcontour\"}], \"mesh3d\": [{\"colorbar\": {\"outlinewidth\": 0, \"ticks\": \"\"}, \"type\": \"mesh3d\"}], \"parcoords\": [{\"line\": {\"colorbar\": {\"outlinewidth\": 0, \"ticks\": \"\"}}, \"type\": \"parcoords\"}], \"pie\": [{\"automargin\": true, \"type\": \"pie\"}], \"scatter\": [{\"marker\": {\"colorbar\": {\"outlinewidth\": 0, \"ticks\": \"\"}}, \"type\": \"scatter\"}], \"scatter3d\": [{\"line\": {\"colorbar\": {\"outlinewidth\": 0, \"ticks\": \"\"}}, \"marker\": {\"colorbar\": {\"outlinewidth\": 0, \"ticks\": \"\"}}, \"type\": \"scatter3d\"}], \"scattercarpet\": [{\"marker\": {\"colorbar\": {\"outlinewidth\": 0, \"ticks\": \"\"}}, \"type\": \"scattercarpet\"}], \"scattergeo\": [{\"marker\": {\"colorbar\": {\"outlinewidth\": 0, \"ticks\": \"\"}}, \"type\": \"scattergeo\"}], \"scattergl\": [{\"marker\": {\"colorbar\": {\"outlinewidth\": 0, \"ticks\": \"\"}}, \"type\": \"scattergl\"}], \"scattermapbox\": [{\"marker\": {\"colorbar\": {\"outlinewidth\": 0, \"ticks\": \"\"}}, \"type\": \"scattermapbox\"}], \"scatterpolar\": [{\"marker\": {\"colorbar\": {\"outlinewidth\": 0, \"ticks\": \"\"}}, \"type\": \"scatterpolar\"}], \"scatterpolargl\": [{\"marker\": {\"colorbar\": {\"outlinewidth\": 0, \"ticks\": \"\"}}, \"type\": \"scatterpolargl\"}], \"scatterternary\": [{\"marker\": {\"colorbar\": {\"outlinewidth\": 0, \"ticks\": \"\"}}, \"type\": \"scatterternary\"}], \"surface\": [{\"colorbar\": {\"outlinewidth\": 0, \"ticks\": \"\"}, \"colorscale\": [[0.0, \"#0d0887\"], [0.1111111111111111, \"#46039f\"], [0.2222222222222222, \"#7201a8\"], [0.3333333333333333, \"#9c179e\"], [0.4444444444444444, \"#bd3786\"], [0.5555555555555556, \"#d8576b\"], [0.6666666666666666, \"#ed7953\"], [0.7777777777777778, \"#fb9f3a\"], [0.8888888888888888, \"#fdca26\"], [1.0, \"#f0f921\"]], \"type\": \"surface\"}], \"table\": [{\"cells\": {\"fill\": {\"color\": \"#EBF0F8\"}, \"line\": {\"color\": \"white\"}}, \"header\": {\"fill\": {\"color\": \"#C8D4E3\"}, \"line\": {\"color\": \"white\"}}, \"type\": \"table\"}]}, \"layout\": {\"annotationdefaults\": {\"arrowcolor\": \"#2a3f5f\", \"arrowhead\": 0, \"arrowwidth\": 1}, \"coloraxis\": {\"colorbar\": {\"outlinewidth\": 0, \"ticks\": \"\"}}, \"colorscale\": {\"diverging\": [[0, \"#8e0152\"], [0.1, \"#c51b7d\"], [0.2, \"#de77ae\"], [0.3, \"#f1b6da\"], [0.4, \"#fde0ef\"], [0.5, \"#f7f7f7\"], [0.6, \"#e6f5d0\"], [0.7, \"#b8e186\"], [0.8, \"#7fbc41\"], [0.9, \"#4d9221\"], [1, \"#276419\"]], \"sequential\": [[0.0, \"#0d0887\"], [0.1111111111111111, \"#46039f\"], [0.2222222222222222, \"#7201a8\"], [0.3333333333333333, \"#9c179e\"], [0.4444444444444444, \"#bd3786\"], [0.5555555555555556, \"#d8576b\"], [0.6666666666666666, \"#ed7953\"], [0.7777777777777778, \"#fb9f3a\"], [0.8888888888888888, \"#fdca26\"], [1.0, \"#f0f921\"]], \"sequentialminus\": [[0.0, \"#0d0887\"], [0.1111111111111111, \"#46039f\"], [0.2222222222222222, \"#7201a8\"], [0.3333333333333333, \"#9c179e\"], [0.4444444444444444, \"#bd3786\"], [0.5555555555555556, \"#d8576b\"], [0.6666666666666666, \"#ed7953\"], [0.7777777777777778, \"#fb9f3a\"], [0.8888888888888888, \"#fdca26\"], [1.0, \"#f0f921\"]]}, \"colorway\": [\"#636efa\", \"#EF553B\", \"#00cc96\", \"#ab63fa\", \"#FFA15A\", \"#19d3f3\", \"#FF6692\", \"#B6E880\", \"#FF97FF\", \"#FECB52\"], \"font\": {\"color\": \"#2a3f5f\"}, \"geo\": {\"bgcolor\": \"white\", \"lakecolor\": \"white\", \"landcolor\": \"#E5ECF6\", \"showlakes\": true, \"showland\": true, \"subunitcolor\": \"white\"}, \"hoverlabel\": {\"align\": \"left\"}, \"hovermode\": \"closest\", \"mapbox\": {\"style\": \"light\"}, \"paper_bgcolor\": \"white\", \"plot_bgcolor\": \"#E5ECF6\", \"polar\": {\"angularaxis\": {\"gridcolor\": \"white\", \"linecolor\": \"white\", \"ticks\": \"\"}, \"bgcolor\": \"#E5ECF6\", \"radialaxis\": {\"gridcolor\": \"white\", \"linecolor\": \"white\", \"ticks\": \"\"}}, \"scene\": {\"xaxis\": {\"backgroundcolor\": \"#E5ECF6\", \"gridcolor\": \"white\", \"gridwidth\": 2, \"linecolor\": \"white\", \"showbackground\": true, \"ticks\": \"\", \"zerolinecolor\": \"white\"}, \"yaxis\": {\"backgroundcolor\": \"#E5ECF6\", \"gridcolor\": \"white\", \"gridwidth\": 2, \"linecolor\": \"white\", \"showbackground\": true, \"ticks\": \"\", \"zerolinecolor\": \"white\"}, \"zaxis\": {\"backgroundcolor\": \"#E5ECF6\", \"gridcolor\": \"white\", \"gridwidth\": 2, \"linecolor\": \"white\", \"showbackground\": true, \"ticks\": \"\", \"zerolinecolor\": \"white\"}}, \"shapedefaults\": {\"line\": {\"color\": \"#2a3f5f\"}}, \"ternary\": {\"aaxis\": {\"gridcolor\": \"white\", \"linecolor\": \"white\", \"ticks\": \"\"}, \"baxis\": {\"gridcolor\": \"white\", \"linecolor\": \"white\", \"ticks\": \"\"}, \"bgcolor\": \"#E5ECF6\", \"caxis\": {\"gridcolor\": \"white\", \"linecolor\": \"white\", \"ticks\": \"\"}}, \"title\": {\"x\": 0.05}, \"xaxis\": {\"automargin\": true, \"gridcolor\": \"white\", \"linecolor\": \"white\", \"ticks\": \"\", \"title\": {\"standoff\": 15}, \"zerolinecolor\": \"white\", \"zerolinewidth\": 2}, \"yaxis\": {\"automargin\": true, \"gridcolor\": \"white\", \"linecolor\": \"white\", \"ticks\": \"\", \"title\": {\"standoff\": 15}, \"zerolinecolor\": \"white\", \"zerolinewidth\": 2}}}, \"title\": {\"text\": \"Geospatial Database: <br>Server Name: 10.223.232.109 <br>Prepared by:<a href='https://github.com/MehdiMahmoodi'>Mehdi</a>\"}},\n",
       "                        {\"responsive\": true}\n",
       "                    ).then(function(){\n",
       "                            \n",
       "var gd = document.getElementById('cf05a4c5-39cb-41ff-8715-a06e25cd9b52');\n",
       "var x = new MutationObserver(function (mutations, observer) {{\n",
       "        var display = window.getComputedStyle(gd).display;\n",
       "        if (!display || display === 'none') {{\n",
       "            console.log([gd, 'removed!']);\n",
       "            Plotly.purge(gd);\n",
       "            observer.disconnect();\n",
       "        }}\n",
       "}});\n",
       "\n",
       "// Listen for the removal of the full notebook cells\n",
       "var notebookContainer = gd.closest('#notebook-container');\n",
       "if (notebookContainer) {{\n",
       "    x.observe(notebookContainer, {childList: true});\n",
       "}}\n",
       "\n",
       "// Listen for the clearing of the current output cell\n",
       "var outputEl = gd.closest('.output');\n",
       "if (outputEl) {{\n",
       "    x.observe(outputEl, {childList: true});\n",
       "}}\n",
       "\n",
       "                        })\n",
       "                };\n",
       "                });\n",
       "            </script>\n",
       "        </div>"
      ]
     },
     "metadata": {},
     "output_type": "display_data"
    }
   ],
   "source": [
    "import plotly.graph_objects as go\n",
    "import pandas as pd\n",
    "import numpy as np\n",
    "import random\n",
    "\n",
    "#Load the Pivot table:\n",
    "df = pd.read_excel('../PivotTable.xlsx',index_col='0')\n",
    "\n",
    "\n",
    "label = list(df.index.append(df.columns))\n",
    "\n",
    "\n",
    "source_1 = []\n",
    "for j in range(len(df.index)):\n",
    "    source_1.append(([j for i in df.iloc[j].isna() if i==False]))\n",
    "source=[]\n",
    "for i in source_1:\n",
    "    for j in i:\n",
    "        source.append(j)\n",
    "        \n",
    "        \n",
    "target=[]\n",
    "for i in range(len(df.index)):\n",
    "    for j in range(len(df.columns)):\n",
    "        if pd.isna(df.iloc[i][j])==False:\n",
    "            target.append(len(df.index)+j)\n",
    "            \n",
    "\n",
    "value = []\n",
    "for i in df.values.ravel():\n",
    "    if pd.isna(i)==False:\n",
    "        value.append(i)\n",
    "        \n",
    "        \n",
    "#Random Color Generator:\n",
    "random.seed(110)\n",
    "random.randint(0,255)\n",
    "color=[]\n",
    "for i in range (len(value)):\n",
    "    r=random.randint(0,255)\n",
    "    g=random.randint(0,255)\n",
    "    b=random.randint(0,255)\n",
    "    color.append(f'rgba({r}, {g}, {b}, 0.8)')\n",
    "    \n",
    "    \n",
    "#Show Sankey:\n",
    "link = dict(source = source, target = target, value = value , color=color)\n",
    "line = dict(color='black' , width=0.95)\n",
    "node = dict(label=label,pad=50,thickness=15,line=line)\n",
    "\n",
    "data= go.Sankey(link=link ,node=node , valueformat = \".0f\" , valuesuffix = \"Keys\" )\n",
    "fig= go.Figure(data)\n",
    "fig.update_layout(hovermode='x',\n",
    "                  title=\"Geospatial Database: <br>Server Name: 10.223.232.109 <br>Prepared by:<a href='https://github.com/MehdiMahmoodi'>Mehdi</a>\",\n",
    "                 font = dict(size=8 , color = 'black'),\n",
    "                 paper_bgcolor='white')\n",
    "fig.show()\n",
    "\n",
    "#Save Sankey as html:\n",
    "fig.write_html(\"C:\\\\Users\\\\mmahmoo\\\\Desktop\\\\DataEngineering\\\\Projects\\\\Sankey_Diagram\\\\Python\\\\sankey.html\")"
   ]
  },
  {
   "cell_type": "code",
   "execution_count": null,
   "id": "4ed6b94b",
   "metadata": {},
   "outputs": [],
   "source": []
  }
 ],
 "metadata": {
  "kernelspec": {
   "display_name": "Python 3",
   "language": "python",
   "name": "python3"
  },
  "language_info": {
   "codemirror_mode": {
    "name": "ipython",
    "version": 3
   },
   "file_extension": ".py",
   "mimetype": "text/x-python",
   "name": "python",
   "nbconvert_exporter": "python",
   "pygments_lexer": "ipython3",
   "version": "3.7.3"
  }
 },
 "nbformat": 4,
 "nbformat_minor": 5
}
